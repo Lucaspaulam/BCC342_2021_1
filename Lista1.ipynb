{
  "nbformat": 4,
  "nbformat_minor": 0,
  "metadata": {
    "colab": {
      "name": "Lista1.ipynb",
      "provenance": [],
      "collapsed_sections": [],
      "toc_visible": true,
      "authorship_tag": "ABX9TyM1r9UlWUeVGmgiSavY5qv0",
      "include_colab_link": true
    },
    "kernelspec": {
      "name": "python3",
      "display_name": "Python 3"
    }
  },
  "cells": [
    {
      "cell_type": "markdown",
      "metadata": {
        "id": "view-in-github",
        "colab_type": "text"
      },
      "source": [
        "<a href=\"https://colab.research.google.com/github/Lucaspaulam/BCC342_2021_1/blob/main/Lista1.ipynb\" target=\"_parent\"><img src=\"https://colab.research.google.com/assets/colab-badge.svg\" alt=\"Open In Colab\"/></a>"
      ]
    },
    {
      "cell_type": "code",
      "metadata": {
        "colab": {
          "base_uri": "https://localhost:8080/"
        },
        "id": "_umOHnFENsbs",
        "outputId": "cd64f395-f7fc-49c7-e1f3-65133e06dfb2"
      },
      "source": [
        "!pip install mip"
      ],
      "execution_count": 1,
      "outputs": [
        {
          "output_type": "stream",
          "text": [
            "Requirement already satisfied: mip in /usr/local/lib/python3.6/dist-packages (1.13.0)\n",
            "Requirement already satisfied: cffi in /usr/local/lib/python3.6/dist-packages (from mip) (1.14.4)\n",
            "Requirement already satisfied: pycparser in /usr/local/lib/python3.6/dist-packages (from cffi->mip) (2.20)\n"
          ],
          "name": "stdout"
        }
      ]
    },
    {
      "cell_type": "code",
      "metadata": {
        "id": "oOkrbbjfOC16"
      },
      "source": [
        "from mip import Model, xsum, INTEGER,BINARY,CONTINUOUS, MAXIMIZE, MINIMIZE #módulos necessários"
      ],
      "execution_count": 2,
      "outputs": []
    },
    {
      "cell_type": "markdown",
      "metadata": {
        "id": "Dngi63eKO7Ci"
      },
      "source": [
        "# Exercício 2) a\r\n"
      ]
    },
    {
      "cell_type": "code",
      "metadata": {
        "id": "XN-4NQeNPMGM"
      },
      "source": [
        "nvars = 2  # Num. variáveis de projeto\r\n",
        "obj_coef = [15,40] # coeficientes função objetivo\r\n",
        "g_coef = [[1,-4],\r\n",
        "         [1,4]] # coeficientes das restrições\r\n",
        "g_val = [0,4080] # valores das desigualdades\r\n",
        "\r\n",
        "m = Model('Aço',sense=MAXIMIZE) #Define modelo"
      ],
      "execution_count": 3,
      "outputs": []
    },
    {
      "cell_type": "code",
      "metadata": {
        "id": "KOratxJnILD3"
      },
      "source": [
        "x = [m.add_var(name='x{}'.format(int(i)),var_type=INTEGER,lb=0) for i in range(nvars)] # Cria lista de variáveis no modelo \"m\" do tipo inteiro, com limite inferior igual a 0\r\n"
      ],
      "execution_count": 4,
      "outputs": []
    },
    {
      "cell_type": "code",
      "metadata": {
        "id": "_U31oU14O0c4"
      },
      "source": [
        "m.objective = xsum(obj_coef[i]*x[i] for i in range(nvars)) #Função objetivo"
      ],
      "execution_count": 5,
      "outputs": []
    },
    {
      "cell_type": "code",
      "metadata": {
        "id": "bb_5Q4vNQXOT"
      },
      "source": [
        "for i in range(len(g_val)):\r\n",
        "  m += xsum(g_coef[i][j]*x[j] for j in range(nvars)) <= g_val[i]"
      ],
      "execution_count": 6,
      "outputs": []
    },
    {
      "cell_type": "code",
      "metadata": {
        "colab": {
          "base_uri": "https://localhost:8080/"
        },
        "id": "QclfLOqFSyDg",
        "outputId": "08d72948-0a61-4a91-fd54-6bf5c8ce1201"
      },
      "source": [
        "m.optimize()"
      ],
      "execution_count": 7,
      "outputs": [
        {
          "output_type": "execute_result",
          "data": {
            "text/plain": [
              "<OptimizationStatus.OPTIMAL: 0>"
            ]
          },
          "metadata": {
            "tags": []
          },
          "execution_count": 7
        }
      ]
    },
    {
      "cell_type": "code",
      "metadata": {
        "colab": {
          "base_uri": "https://localhost:8080/"
        },
        "id": "ljJlnBz3TJSP",
        "outputId": "25e8c0fb-ebdb-4120-c9b0-e8e0f9a88a3b"
      },
      "source": [
        "print('Optimal solution: {}'.format([x[i].x for i in range(nvars)]))"
      ],
      "execution_count": 8,
      "outputs": [
        {
          "output_type": "stream",
          "text": [
            "Optimal solution: [2040.0, 510.0]\n"
          ],
          "name": "stdout"
        }
      ]
    },
    {
      "cell_type": "markdown",
      "metadata": {
        "id": "lr76GoKe1cUu"
      },
      "source": [
        "# Exercício 2) b\r\n",
        "\r\n"
      ]
    },
    {
      "cell_type": "code",
      "metadata": {
        "colab": {
          "base_uri": "https://localhost:8080/"
        },
        "id": "AdI9cEvj1qqg",
        "outputId": "1d68d052-e0ee-4275-f92b-a9d1eb20ec85"
      },
      "source": [
        "\r\n",
        "res = [50,40,60]\r\n",
        "lucro = [10,5,10]\r\n",
        "\r\n",
        "m = Model('Fertilizantes',sense=MINIMIZE)\r\n",
        "\r\n",
        "x = [m.add_var(var_type=CONTINUOUS,lb=0)for i in range(3)]  \r\n",
        "\r\n",
        "m.objective = xsum(res[i]*x[i] for i in range(3))\r\n",
        "\r\n",
        "m +=  xsum(lucro[i]*x[i] for i in range(3)) >= 100000\r\n",
        "m +=  xsum(x[i] for i in range(3)) >= 12000\r\n",
        "m +=  xsum(x[i] for i in range(3)) <= 15000\r\n",
        "m += x[0] >= 5000\r\n",
        "\r\n",
        "m.optimize()\r\n",
        "\r\n",
        "print('Optimal solution:{}'.format([x[i].x for i in range(3)]))"
      ],
      "execution_count": 9,
      "outputs": [
        {
          "output_type": "stream",
          "text": [
            "Optimal solution:[8000.0, 4000.0, 0.0]\n"
          ],
          "name": "stdout"
        }
      ]
    },
    {
      "cell_type": "markdown",
      "metadata": {
        "id": "t0V3gtXo4I1N"
      },
      "source": [
        "# Exercício 2) c"
      ]
    },
    {
      "cell_type": "code",
      "metadata": {
        "colab": {
          "base_uri": "https://localhost:8080/"
        },
        "id": "-zSdrwLZ4LjE",
        "outputId": "a53be04a-f8e4-4313-9a6e-cc48adfcb823"
      },
      "source": [
        "cost=[[40,50,55,999999],\r\n",
        "      [9999999,60,30,50]] \r\n",
        "\r\n",
        "m= Model('Casacos', sense=MINIMIZE)\r\n",
        "\r\n",
        "x = [[m.add_var(var_type=INTEGER,lb=0)for j in range(4)] for i in range(2)] \r\n",
        "m.objective = xsum(cost[i][j]*x[i][j]for i in range(2) for j in range(4))\r\n",
        "\r\n",
        "m += x[1][0]==0\r\n",
        "m += x[0][3]==0\r\n",
        "m += xsum(x[0][j] for j in range(4)) ==6000\r\n",
        "m += xsum(x[1][j] for j in range(4)) ==9000\r\n",
        "m += x[0][0] <= 2500\r\n",
        "m += xsum(x[i][1] for i in range(2)) <=4500\r\n",
        "m += xsum(x[i][2] for i in range(2)) <=5500\r\n",
        "m += x[1][3] <= 3500\r\n",
        "\r\n",
        "\r\n",
        "m.optimize()\r\n",
        "\r\n",
        "print('Optimal solution:{}'.format([x[i][j].x for i in range(2) for j in range(4) ]))"
      ],
      "execution_count": 10,
      "outputs": [
        {
          "output_type": "stream",
          "text": [
            "Optimal solution:[2500.0, 3500.0, 0.0, 0.0, 0.0, 0.0, 5500.0, 3500.0]\n"
          ],
          "name": "stdout"
        }
      ]
    },
    {
      "cell_type": "markdown",
      "metadata": {
        "id": "HMcJVZpaGMRW"
      },
      "source": [
        "# Exercício 2) d\r\n"
      ]
    },
    {
      "cell_type": "code",
      "metadata": {
        "id": "DRFvjZEwGrok",
        "colab": {
          "base_uri": "https://localhost:8080/"
        },
        "outputId": "82ca4537-c679-4f0d-f010-affee6ebc502"
      },
      "source": [
        "\r\n",
        "\r\n",
        "cobre = [0.5 , 0.2]\r\n",
        "zinco = [0.25 , 0.3]\r\n",
        "chumbo = [0.25 , 0.5]\r\n",
        "\r\n",
        "m = Model('Ligas',sense=MAXIMIZE)\r\n",
        "x = [m.add_var(var_type=CONTINUOUS,lb=0)for i in range(2)]\r\n",
        "\r\n",
        "m.objective = 3000*x[0]+5000*x[1]\r\n",
        "m += xsum(cobre[i]*x[i] for i in range(2)) <=16\r\n",
        "m += xsum(zinco[i]*x[i] for i in range(2)) <=11\r\n",
        "m += xsum(chumbo[i]*x[i] for i in range(2)) <=15\r\n",
        "\r\n",
        "m.optimize()\r\n",
        "\r\n",
        "print('Optimal solution:{}'.format([x[i].x for i in range(2) ]))"
      ],
      "execution_count": 11,
      "outputs": [
        {
          "output_type": "stream",
          "text": [
            "Optimal solution:[20.00000000000001, 19.999999999999996]\n"
          ],
          "name": "stdout"
        }
      ]
    },
    {
      "cell_type": "markdown",
      "metadata": {
        "id": "isZvSuZ-XhKo"
      },
      "source": [
        "# # Exercício 2) e\r\n"
      ]
    },
    {
      "cell_type": "code",
      "metadata": {
        "colab": {
          "base_uri": "https://localhost:8080/"
        },
        "id": "3LedsifSXkTh",
        "outputId": "32baba5e-24a4-4a92-ac2d-6af80394c889"
      },
      "source": [
        "a = [[2  , 2  ,10  , 20],\r\n",
        "     [50 , 20 , 10 , 30],\r\n",
        "     [80 , 70 , 10 , 80]]\r\n",
        "\r\n",
        "m = Model('Dieta',sense=MINIMIZE)\r\n",
        "x = [m.add_var(var_type=CONTINUOUS,lb=0)for i in range(4)]\r\n",
        "\r\n",
        "m.objective = 2*x[0]+4*x[1]+1.5*x[2]+x[3]\r\n",
        "\r\n",
        "m += xsum(a[0][j]*x[j] for j in range(4)) >=11\r\n",
        "m += xsum(a[1][j]*x[j] for j in range(4)) >=70\r\n",
        "m += xsum(a[2][j]*x[j] for j in range(4)) >=250\r\n",
        "\r\n",
        "m.optimize()\r\n",
        "\r\n",
        "print('Optimal solution:{}'.format([x[i].x for i in range(4) ]))"
      ],
      "execution_count": 12,
      "outputs": [
        {
          "output_type": "stream",
          "text": [
            "Optimal solution:[0.0, 0.0, 0.0, 3.125]\n"
          ],
          "name": "stdout"
        }
      ]
    },
    {
      "cell_type": "markdown",
      "metadata": {
        "id": "MTCmZ6wr0dyb"
      },
      "source": [
        "#  Exercício 2) f\r\n"
      ]
    },
    {
      "cell_type": "code",
      "metadata": {
        "colab": {
          "base_uri": "https://localhost:8080/"
        },
        "id": "hrkAQQWe0mDH",
        "outputId": "00d3709c-7356-4f20-a758-5e0a76ff8608"
      },
      "source": [
        "consumo=[5.5, 4 , 3.5]\r\n",
        "V = set(range(3))\r\n",
        "m = Model('Cooperativa agrícola',sense=MAXIMIZE)\r\n",
        "x = [[m.add_var(var_type=CONTINUOUS,lb=0)for j in range(3)]for i in range(3)]\r\n",
        "\r\n",
        "m.objective = 5000*(xsum(x[i][0] for i in range(3))) + 4000*(xsum(x[i][1] for i in range(3))) + 1800*(xsum(x[i][2] for i in range(3)))\r\n",
        "\r\n",
        "m += xsum(x[0][j] for j in range(3)) <=400\r\n",
        "m += xsum(x[1][j] for j in range(3)) <=650\r\n",
        "m += xsum(x[2][j] for j in range(3)) <=350\r\n",
        "\r\n",
        "m += xsum(consumo[j]*x[0][j] for j in range(3)) <=1800\r\n",
        "m += xsum(consumo[j]*x[1][j] for j in range(3)) <=2200\r\n",
        "m += xsum(consumo[j]*x[2][j] for j in range(3)) <=950\r\n",
        "\r\n",
        "m += xsum(x[i][0] for i in range(3)) <=660\r\n",
        "m += xsum(x[i][1] for i in range(3)) <=880\r\n",
        "m += xsum(x[i][2] for i in range(3)) <=400\r\n",
        "\r\n",
        "#m += ((xsum(x[0][j] for j in range(3)))/400) == ((xsum(x[1][j] for j in range(3)))/650) == ((xsum(x[2][j] for j in range(3)))/350)\r\n",
        "m += ((xsum(x[0][j] for j in range(3)))/400) == ((xsum(x[1][j] for j in range(3)))/650)\r\n",
        "m += ((xsum(x[0][j] for j in range(3)))/400) == ((xsum(x[2][j] for j in range(3)))/350)\r\n",
        "m += ((xsum(x[1][j] for j in range(3)))/650) == ((xsum(x[2][j] for j in range(3)))/350)\r\n",
        "\r\n",
        "m.optimize()\r\n",
        "\r\n",
        "#print('Optimal solution:{}'.format([x[i][j].x for i in range(3) for j in range(3) ]))\r\n",
        "for i in V:\r\n",
        "  s = ''\r\n",
        "  for j in V:\r\n",
        "    s = s + '  ' + str(x[i][j].x)\r\n",
        "  print(s)"
      ],
      "execution_count": 13,
      "outputs": [
        {
          "output_type": "stream",
          "text": [
            "  271.4285714285714  0.0  0.0\n",
            "  290.47619047619077  150.59523809523773  0.0\n",
            "  0.0  237.5  0.0\n"
          ],
          "name": "stdout"
        }
      ]
    },
    {
      "cell_type": "markdown",
      "metadata": {
        "id": "RfqvKtK9Rqne"
      },
      "source": [
        "# Exercício 2) g\r\n"
      ]
    },
    {
      "cell_type": "code",
      "metadata": {
        "colab": {
          "base_uri": "https://localhost:8080/"
        },
        "id": "J0k8UWOSRwbZ",
        "outputId": "37b42e0a-d6ad-4199-d8d8-f3e7aa6029db"
      },
      "source": [
        "m = Model('Equipes engenharia',sense=MAXIMIZE)\r\n",
        "x = [m.add_var(lb=0) for i in range(2)]\r\n",
        "\r\n",
        "m.objective = x[0]\r\n",
        "\r\n",
        "m += 40*x[1]+80*(1-x[1]) >=x[0]\r\n",
        "m += 80*x[1]+20*(1-x[1]) >=x[0]\r\n",
        "m += x[1] <= 1\r\n",
        "m.optimize()\r\n",
        "print('optimal solution:{}' .format([x[i].x for i in range(2)]))"
      ],
      "execution_count": 14,
      "outputs": [
        {
          "output_type": "stream",
          "text": [
            "optimal solution:[56.000000000000014, 0.5999999999999996]\n"
          ],
          "name": "stdout"
        }
      ]
    },
    {
      "cell_type": "markdown",
      "metadata": {
        "id": "zKdeYiE3M4E2"
      },
      "source": [
        "# Exercício 2) h"
      ]
    },
    {
      "cell_type": "code",
      "metadata": {
        "colab": {
          "base_uri": "https://localhost:8080/"
        },
        "id": "_PZqgbEkM7Wc",
        "outputId": "697632b2-ea01-40f2-b0b4-3dff3656023e"
      },
      "source": [
        "\r\n",
        "m = Model('Fábrica',sense=MAXIMIZE)\r\n",
        "x = [m.add_var(var_type=INTEGER,lb=0) for i in range(2)]\r\n",
        "\r\n",
        "m.objective = 2*x[0]+4*x[1]\r\n",
        "\r\n",
        "m += 3*x[0]+4*x[1] <=200\r\n",
        "m += 9*x[0]+7*x[1] <=300\r\n",
        "\r\n",
        "m.optimize()\r\n",
        "print('optimal solution:{}' .format([x[i].x for i in range(2)]))"
      ],
      "execution_count": 15,
      "outputs": [
        {
          "output_type": "stream",
          "text": [
            "optimal solution:[0.0, 42.0]\n"
          ],
          "name": "stdout"
        }
      ]
    },
    {
      "cell_type": "markdown",
      "metadata": {
        "id": "UxiZEjVrT9An"
      },
      "source": [
        "# Exercício 2) i"
      ]
    },
    {
      "cell_type": "code",
      "metadata": {
        "colab": {
          "base_uri": "https://localhost:8080/"
        },
        "id": "kXg4WWcST_Ka",
        "outputId": "c765a82f-d1bb-4898-919a-c323806c4781"
      },
      "source": [
        "m = Model('Camisas',sense=MAXIMIZE)\r\n",
        "x = [m.add_var(var_type=INTEGER,lb=0) for i in range(2)]\r\n",
        "\r\n",
        "m.objective = 5*x[0]+3.5*x[1]\r\n",
        "\r\n",
        "m += 1.5*x[0] +x[1] <= 400\r\n",
        "m += x[0] <=150\r\n",
        "m += x[1] <=300\r\n",
        "\r\n",
        "m.optimize()\r\n",
        "print('optimal solution:{}' .format([x[i].x for i in range(2)]))"
      ],
      "execution_count": 16,
      "outputs": [
        {
          "output_type": "stream",
          "text": [
            "optimal solution:[68.0, 298.0]\n"
          ],
          "name": "stdout"
        }
      ]
    }
  ]
}